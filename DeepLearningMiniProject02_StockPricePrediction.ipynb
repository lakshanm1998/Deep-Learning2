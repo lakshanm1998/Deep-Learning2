{
  "nbformat": 4,
  "nbformat_minor": 0,
  "metadata": {
    "colab": {
      "provenance": []
    },
    "kernelspec": {
      "name": "python3",
      "display_name": "Python 3"
    },
    "language_info": {
      "name": "python"
    }
  },
  "cells": [
    {
      "cell_type": "markdown",
      "source": [
        "**Import Libraries**"
      ],
      "metadata": {
        "id": "zCIi8ojjQ4ux"
      }
    },
    {
      "cell_type": "code",
      "execution_count": 1,
      "metadata": {
        "id": "ZS9pR6Nm5wxf"
      },
      "outputs": [],
      "source": [
        "import numpy as np\n",
        "import pandas as pd\n",
        "import math\n",
        "import matplotlib.pyplot as plt\n",
        "from sklearn.preprocessing import MinMaxScaler\n",
        "from keras.models import Sequential\n",
        "from keras.layers import LSTM, Dense\n",
        "from sklearn.metrics import mean_squared_error"
      ]
    },
    {
      "cell_type": "markdown",
      "source": [
        "**Mount Google Drive**\n",
        "\n",
        "\n",
        "\n"
      ],
      "metadata": {
        "id": "mCy8N_INRBS6"
      }
    },
    {
      "cell_type": "code",
      "source": [
        "from google.colab import drive\n",
        "drive.mount('/content/drive')"
      ],
      "metadata": {
        "colab": {
          "base_uri": "https://localhost:8080/"
        },
        "id": "AT6bNP_f6b0s",
        "outputId": "6d999533-fc07-4286-e286-d9a016c38fde"
      },
      "execution_count": 2,
      "outputs": [
        {
          "output_type": "stream",
          "name": "stdout",
          "text": [
            "Mounted at /content/drive\n"
          ]
        }
      ]
    },
    {
      "cell_type": "markdown",
      "source": [
        "**Show Data**"
      ],
      "metadata": {
        "id": "4P8mYuuxNQRw"
      }
    },
    {
      "cell_type": "code",
      "source": [
        "data = pd.read_csv('/content/drive/My Drive/Colab Notebooks/Deep Learning Project 2/ColomboStockExchange.csv')\n",
        "data.head()"
      ],
      "metadata": {
        "id": "XSyTZfQu6mkE",
        "colab": {
          "base_uri": "https://localhost:8080/",
          "height": 206
        },
        "outputId": "ce6cc841-cfb6-478a-cac9-a0a616bedb6a"
      },
      "execution_count": 4,
      "outputs": [
        {
          "output_type": "execute_result",
          "data": {
            "text/plain": [
              "         Date        Open        High         Low       Close   Adj Close  \\\n",
              "0  1997-07-01  798.500000  798.500000  798.500000  798.500000  798.500000   \n",
              "1  1997-07-02  805.299988  805.299988  805.299988  805.299988  805.299988   \n",
              "2  1997-07-03  810.799988  810.799988  810.799988  810.799988  810.799988   \n",
              "3  1997-07-07  828.200012  828.200012  828.200012  828.200012  828.200012   \n",
              "4  1997-07-08  821.400024  821.400024  821.400024  821.400024  821.400024   \n",
              "\n",
              "   Volume  \n",
              "0     0.0  \n",
              "1     0.0  \n",
              "2     0.0  \n",
              "3     0.0  \n",
              "4     0.0  "
            ],
            "text/html": [
              "\n",
              "  <div id=\"df-c970c747-0b9e-4dc8-9b62-1a69b9170f6f\" class=\"colab-df-container\">\n",
              "    <div>\n",
              "<style scoped>\n",
              "    .dataframe tbody tr th:only-of-type {\n",
              "        vertical-align: middle;\n",
              "    }\n",
              "\n",
              "    .dataframe tbody tr th {\n",
              "        vertical-align: top;\n",
              "    }\n",
              "\n",
              "    .dataframe thead th {\n",
              "        text-align: right;\n",
              "    }\n",
              "</style>\n",
              "<table border=\"1\" class=\"dataframe\">\n",
              "  <thead>\n",
              "    <tr style=\"text-align: right;\">\n",
              "      <th></th>\n",
              "      <th>Date</th>\n",
              "      <th>Open</th>\n",
              "      <th>High</th>\n",
              "      <th>Low</th>\n",
              "      <th>Close</th>\n",
              "      <th>Adj Close</th>\n",
              "      <th>Volume</th>\n",
              "    </tr>\n",
              "  </thead>\n",
              "  <tbody>\n",
              "    <tr>\n",
              "      <th>0</th>\n",
              "      <td>1997-07-01</td>\n",
              "      <td>798.500000</td>\n",
              "      <td>798.500000</td>\n",
              "      <td>798.500000</td>\n",
              "      <td>798.500000</td>\n",
              "      <td>798.500000</td>\n",
              "      <td>0.0</td>\n",
              "    </tr>\n",
              "    <tr>\n",
              "      <th>1</th>\n",
              "      <td>1997-07-02</td>\n",
              "      <td>805.299988</td>\n",
              "      <td>805.299988</td>\n",
              "      <td>805.299988</td>\n",
              "      <td>805.299988</td>\n",
              "      <td>805.299988</td>\n",
              "      <td>0.0</td>\n",
              "    </tr>\n",
              "    <tr>\n",
              "      <th>2</th>\n",
              "      <td>1997-07-03</td>\n",
              "      <td>810.799988</td>\n",
              "      <td>810.799988</td>\n",
              "      <td>810.799988</td>\n",
              "      <td>810.799988</td>\n",
              "      <td>810.799988</td>\n",
              "      <td>0.0</td>\n",
              "    </tr>\n",
              "    <tr>\n",
              "      <th>3</th>\n",
              "      <td>1997-07-07</td>\n",
              "      <td>828.200012</td>\n",
              "      <td>828.200012</td>\n",
              "      <td>828.200012</td>\n",
              "      <td>828.200012</td>\n",
              "      <td>828.200012</td>\n",
              "      <td>0.0</td>\n",
              "    </tr>\n",
              "    <tr>\n",
              "      <th>4</th>\n",
              "      <td>1997-07-08</td>\n",
              "      <td>821.400024</td>\n",
              "      <td>821.400024</td>\n",
              "      <td>821.400024</td>\n",
              "      <td>821.400024</td>\n",
              "      <td>821.400024</td>\n",
              "      <td>0.0</td>\n",
              "    </tr>\n",
              "  </tbody>\n",
              "</table>\n",
              "</div>\n",
              "    <div class=\"colab-df-buttons\">\n",
              "\n",
              "  <div class=\"colab-df-container\">\n",
              "    <button class=\"colab-df-convert\" onclick=\"convertToInteractive('df-c970c747-0b9e-4dc8-9b62-1a69b9170f6f')\"\n",
              "            title=\"Convert this dataframe to an interactive table.\"\n",
              "            style=\"display:none;\">\n",
              "\n",
              "  <svg xmlns=\"http://www.w3.org/2000/svg\" height=\"24px\" viewBox=\"0 -960 960 960\">\n",
              "    <path d=\"M120-120v-720h720v720H120Zm60-500h600v-160H180v160Zm220 220h160v-160H400v160Zm0 220h160v-160H400v160ZM180-400h160v-160H180v160Zm440 0h160v-160H620v160ZM180-180h160v-160H180v160Zm440 0h160v-160H620v160Z\"/>\n",
              "  </svg>\n",
              "    </button>\n",
              "\n",
              "  <style>\n",
              "    .colab-df-container {\n",
              "      display:flex;\n",
              "      gap: 12px;\n",
              "    }\n",
              "\n",
              "    .colab-df-convert {\n",
              "      background-color: #E8F0FE;\n",
              "      border: none;\n",
              "      border-radius: 50%;\n",
              "      cursor: pointer;\n",
              "      display: none;\n",
              "      fill: #1967D2;\n",
              "      height: 32px;\n",
              "      padding: 0 0 0 0;\n",
              "      width: 32px;\n",
              "    }\n",
              "\n",
              "    .colab-df-convert:hover {\n",
              "      background-color: #E2EBFA;\n",
              "      box-shadow: 0px 1px 2px rgba(60, 64, 67, 0.3), 0px 1px 3px 1px rgba(60, 64, 67, 0.15);\n",
              "      fill: #174EA6;\n",
              "    }\n",
              "\n",
              "    .colab-df-buttons div {\n",
              "      margin-bottom: 4px;\n",
              "    }\n",
              "\n",
              "    [theme=dark] .colab-df-convert {\n",
              "      background-color: #3B4455;\n",
              "      fill: #D2E3FC;\n",
              "    }\n",
              "\n",
              "    [theme=dark] .colab-df-convert:hover {\n",
              "      background-color: #434B5C;\n",
              "      box-shadow: 0px 1px 3px 1px rgba(0, 0, 0, 0.15);\n",
              "      filter: drop-shadow(0px 1px 2px rgba(0, 0, 0, 0.3));\n",
              "      fill: #FFFFFF;\n",
              "    }\n",
              "  </style>\n",
              "\n",
              "    <script>\n",
              "      const buttonEl =\n",
              "        document.querySelector('#df-c970c747-0b9e-4dc8-9b62-1a69b9170f6f button.colab-df-convert');\n",
              "      buttonEl.style.display =\n",
              "        google.colab.kernel.accessAllowed ? 'block' : 'none';\n",
              "\n",
              "      async function convertToInteractive(key) {\n",
              "        const element = document.querySelector('#df-c970c747-0b9e-4dc8-9b62-1a69b9170f6f');\n",
              "        const dataTable =\n",
              "          await google.colab.kernel.invokeFunction('convertToInteractive',\n",
              "                                                    [key], {});\n",
              "        if (!dataTable) return;\n",
              "\n",
              "        const docLinkHtml = 'Like what you see? Visit the ' +\n",
              "          '<a target=\"_blank\" href=https://colab.research.google.com/notebooks/data_table.ipynb>data table notebook</a>'\n",
              "          + ' to learn more about interactive tables.';\n",
              "        element.innerHTML = '';\n",
              "        dataTable['output_type'] = 'display_data';\n",
              "        await google.colab.output.renderOutput(dataTable, element);\n",
              "        const docLink = document.createElement('div');\n",
              "        docLink.innerHTML = docLinkHtml;\n",
              "        element.appendChild(docLink);\n",
              "      }\n",
              "    </script>\n",
              "  </div>\n",
              "\n",
              "\n",
              "<div id=\"df-a41e9b9a-8cce-4c08-a74e-d8bb7722002b\">\n",
              "  <button class=\"colab-df-quickchart\" onclick=\"quickchart('df-a41e9b9a-8cce-4c08-a74e-d8bb7722002b')\"\n",
              "            title=\"Suggest charts\"\n",
              "            style=\"display:none;\">\n",
              "\n",
              "<svg xmlns=\"http://www.w3.org/2000/svg\" height=\"24px\"viewBox=\"0 0 24 24\"\n",
              "     width=\"24px\">\n",
              "    <g>\n",
              "        <path d=\"M19 3H5c-1.1 0-2 .9-2 2v14c0 1.1.9 2 2 2h14c1.1 0 2-.9 2-2V5c0-1.1-.9-2-2-2zM9 17H7v-7h2v7zm4 0h-2V7h2v10zm4 0h-2v-4h2v4z\"/>\n",
              "    </g>\n",
              "</svg>\n",
              "  </button>\n",
              "\n",
              "<style>\n",
              "  .colab-df-quickchart {\n",
              "      --bg-color: #E8F0FE;\n",
              "      --fill-color: #1967D2;\n",
              "      --hover-bg-color: #E2EBFA;\n",
              "      --hover-fill-color: #174EA6;\n",
              "      --disabled-fill-color: #AAA;\n",
              "      --disabled-bg-color: #DDD;\n",
              "  }\n",
              "\n",
              "  [theme=dark] .colab-df-quickchart {\n",
              "      --bg-color: #3B4455;\n",
              "      --fill-color: #D2E3FC;\n",
              "      --hover-bg-color: #434B5C;\n",
              "      --hover-fill-color: #FFFFFF;\n",
              "      --disabled-bg-color: #3B4455;\n",
              "      --disabled-fill-color: #666;\n",
              "  }\n",
              "\n",
              "  .colab-df-quickchart {\n",
              "    background-color: var(--bg-color);\n",
              "    border: none;\n",
              "    border-radius: 50%;\n",
              "    cursor: pointer;\n",
              "    display: none;\n",
              "    fill: var(--fill-color);\n",
              "    height: 32px;\n",
              "    padding: 0;\n",
              "    width: 32px;\n",
              "  }\n",
              "\n",
              "  .colab-df-quickchart:hover {\n",
              "    background-color: var(--hover-bg-color);\n",
              "    box-shadow: 0 1px 2px rgba(60, 64, 67, 0.3), 0 1px 3px 1px rgba(60, 64, 67, 0.15);\n",
              "    fill: var(--button-hover-fill-color);\n",
              "  }\n",
              "\n",
              "  .colab-df-quickchart-complete:disabled,\n",
              "  .colab-df-quickchart-complete:disabled:hover {\n",
              "    background-color: var(--disabled-bg-color);\n",
              "    fill: var(--disabled-fill-color);\n",
              "    box-shadow: none;\n",
              "  }\n",
              "\n",
              "  .colab-df-spinner {\n",
              "    border: 2px solid var(--fill-color);\n",
              "    border-color: transparent;\n",
              "    border-bottom-color: var(--fill-color);\n",
              "    animation:\n",
              "      spin 1s steps(1) infinite;\n",
              "  }\n",
              "\n",
              "  @keyframes spin {\n",
              "    0% {\n",
              "      border-color: transparent;\n",
              "      border-bottom-color: var(--fill-color);\n",
              "      border-left-color: var(--fill-color);\n",
              "    }\n",
              "    20% {\n",
              "      border-color: transparent;\n",
              "      border-left-color: var(--fill-color);\n",
              "      border-top-color: var(--fill-color);\n",
              "    }\n",
              "    30% {\n",
              "      border-color: transparent;\n",
              "      border-left-color: var(--fill-color);\n",
              "      border-top-color: var(--fill-color);\n",
              "      border-right-color: var(--fill-color);\n",
              "    }\n",
              "    40% {\n",
              "      border-color: transparent;\n",
              "      border-right-color: var(--fill-color);\n",
              "      border-top-color: var(--fill-color);\n",
              "    }\n",
              "    60% {\n",
              "      border-color: transparent;\n",
              "      border-right-color: var(--fill-color);\n",
              "    }\n",
              "    80% {\n",
              "      border-color: transparent;\n",
              "      border-right-color: var(--fill-color);\n",
              "      border-bottom-color: var(--fill-color);\n",
              "    }\n",
              "    90% {\n",
              "      border-color: transparent;\n",
              "      border-bottom-color: var(--fill-color);\n",
              "    }\n",
              "  }\n",
              "</style>\n",
              "\n",
              "  <script>\n",
              "    async function quickchart(key) {\n",
              "      const quickchartButtonEl =\n",
              "        document.querySelector('#' + key + ' button');\n",
              "      quickchartButtonEl.disabled = true;  // To prevent multiple clicks.\n",
              "      quickchartButtonEl.classList.add('colab-df-spinner');\n",
              "      try {\n",
              "        const charts = await google.colab.kernel.invokeFunction(\n",
              "            'suggestCharts', [key], {});\n",
              "      } catch (error) {\n",
              "        console.error('Error during call to suggestCharts:', error);\n",
              "      }\n",
              "      quickchartButtonEl.classList.remove('colab-df-spinner');\n",
              "      quickchartButtonEl.classList.add('colab-df-quickchart-complete');\n",
              "    }\n",
              "    (() => {\n",
              "      let quickchartButtonEl =\n",
              "        document.querySelector('#df-a41e9b9a-8cce-4c08-a74e-d8bb7722002b button');\n",
              "      quickchartButtonEl.style.display =\n",
              "        google.colab.kernel.accessAllowed ? 'block' : 'none';\n",
              "    })();\n",
              "  </script>\n",
              "</div>\n",
              "\n",
              "    </div>\n",
              "  </div>\n"
            ],
            "application/vnd.google.colaboratory.intrinsic+json": {
              "type": "dataframe",
              "variable_name": "data",
              "repr_error": "'str' object has no attribute 'empty'"
            }
          },
          "metadata": {},
          "execution_count": 4
        }
      ]
    },
    {
      "cell_type": "markdown",
      "source": [
        "**Data Preprocessing**"
      ],
      "metadata": {
        "id": "jOM3Px4YRH86"
      }
    },
    {
      "cell_type": "code",
      "source": [
        "data.dropna(inplace=True)\n",
        "data['Date'] = pd.to_datetime(data['Date'])\n",
        "data.set_index('Date', inplace=True)\n",
        "data = data.apply(pd.to_numeric, errors='coerce')"
      ],
      "metadata": {
        "id": "ZgmZUJM4NPRq"
      },
      "execution_count": 5,
      "outputs": []
    },
    {
      "cell_type": "markdown",
      "source": [
        "**Data Partitioning**"
      ],
      "metadata": {
        "id": "iFS62Y0lRPZC"
      }
    },
    {
      "cell_type": "code",
      "source": [
        "split_index = int(len(data) * 0.8)\n",
        "train_data, test_data = data.iloc[:split_index], data.iloc[split_index:]"
      ],
      "metadata": {
        "id": "AowtaxCS6x9_"
      },
      "execution_count": 6,
      "outputs": []
    },
    {
      "cell_type": "markdown",
      "source": [
        "**Normalization**"
      ],
      "metadata": {
        "id": "BPhoBzW8Rlrh"
      }
    },
    {
      "cell_type": "code",
      "source": [
        "scaler = MinMaxScaler(feature_range=(0, 1))\n",
        "train_data_normalized = scaler.fit_transform(train_data[['Close']])\n",
        "test_data_normalized = scaler.transform(test_data[['Close']])"
      ],
      "metadata": {
        "id": "6At6_pAN61y0"
      },
      "execution_count": 7,
      "outputs": []
    },
    {
      "cell_type": "markdown",
      "source": [
        "**Sequence Creation**"
      ],
      "metadata": {
        "id": "CAi7pPNrRrCO"
      }
    },
    {
      "cell_type": "code",
      "source": [
        "def create_sequences(data, seq_length):\n",
        "    X, y = [], []\n",
        "    for i in range(len(data) - seq_length):\n",
        "        X.append(data[i:(i + seq_length)])\n",
        "        y.append(data[i + seq_length])\n",
        "    return np.array(X), np.array(y)\n",
        "\n",
        "seq_length = 30\n",
        "X_train, y_train = create_sequences(train_data_normalized, seq_length)\n",
        "X_test, y_test = create_sequences(test_data_normalized, seq_length)"
      ],
      "metadata": {
        "id": "gn17HNRY65qV"
      },
      "execution_count": 8,
      "outputs": []
    },
    {
      "cell_type": "markdown",
      "source": [
        "**Train the Model**"
      ],
      "metadata": {
        "id": "6CRineivR2Dn"
      }
    },
    {
      "cell_type": "code",
      "source": [
        "model = Sequential()\n",
        "model.add(LSTM(units=50, return_sequences=True, input_shape=(X_train.shape[1], X_train.shape[2])))\n",
        "model.add(LSTM(units=50))\n",
        "model.add(Dense(units=1))\n",
        "model.compile(optimizer='adam', loss='mean_squared_error')\n",
        "model.fit(X_train, y_train, epochs=20, batch_size=32)"
      ],
      "metadata": {
        "colab": {
          "base_uri": "https://localhost:8080/"
        },
        "id": "UE5BBFG27Bgc",
        "outputId": "66d07d61-790d-4025-b170-6b194ed06e08"
      },
      "execution_count": 9,
      "outputs": [
        {
          "output_type": "stream",
          "name": "stdout",
          "text": [
            "Epoch 1/20\n",
            "137/137 [==============================] - 9s 35ms/step - loss: 0.0096\n",
            "Epoch 2/20\n",
            "137/137 [==============================] - 6s 44ms/step - loss: 2.3989e-04\n",
            "Epoch 3/20\n",
            "137/137 [==============================] - 7s 50ms/step - loss: 2.1816e-04\n",
            "Epoch 4/20\n",
            "137/137 [==============================] - 4s 26ms/step - loss: 2.0437e-04\n",
            "Epoch 5/20\n",
            "137/137 [==============================] - 4s 27ms/step - loss: 1.9086e-04\n",
            "Epoch 6/20\n",
            "137/137 [==============================] - 4s 32ms/step - loss: 1.8895e-04\n",
            "Epoch 7/20\n",
            "137/137 [==============================] - 5s 33ms/step - loss: 1.5242e-04\n",
            "Epoch 8/20\n",
            "137/137 [==============================] - 4s 27ms/step - loss: 1.4867e-04\n",
            "Epoch 9/20\n",
            "137/137 [==============================] - 4s 27ms/step - loss: 1.5946e-04\n",
            "Epoch 10/20\n",
            "137/137 [==============================] - 5s 38ms/step - loss: 1.1934e-04\n",
            "Epoch 11/20\n",
            "137/137 [==============================] - 4s 26ms/step - loss: 1.2565e-04\n",
            "Epoch 12/20\n",
            "137/137 [==============================] - 4s 27ms/step - loss: 1.1422e-04\n",
            "Epoch 13/20\n",
            "137/137 [==============================] - 4s 33ms/step - loss: 1.1229e-04\n",
            "Epoch 14/20\n",
            "137/137 [==============================] - 6s 40ms/step - loss: 9.0084e-05\n",
            "Epoch 15/20\n",
            "137/137 [==============================] - 4s 27ms/step - loss: 8.5742e-05\n",
            "Epoch 16/20\n",
            "137/137 [==============================] - 4s 29ms/step - loss: 8.5801e-05\n",
            "Epoch 17/20\n",
            "137/137 [==============================] - 5s 39ms/step - loss: 8.1959e-05\n",
            "Epoch 18/20\n",
            "137/137 [==============================] - 4s 29ms/step - loss: 9.0149e-05\n",
            "Epoch 19/20\n",
            "137/137 [==============================] - 4s 27ms/step - loss: 8.8534e-05\n",
            "Epoch 20/20\n",
            "137/137 [==============================] - 7s 49ms/step - loss: 9.2777e-05\n"
          ]
        },
        {
          "output_type": "execute_result",
          "data": {
            "text/plain": [
              "<keras.src.callbacks.History at 0x78623168f0d0>"
            ]
          },
          "metadata": {},
          "execution_count": 9
        }
      ]
    },
    {
      "cell_type": "markdown",
      "source": [
        "**Evaluation of the model**"
      ],
      "metadata": {
        "id": "n62RXGz8R74Q"
      }
    },
    {
      "cell_type": "code",
      "source": [
        "predicted_stock_prices = model.predict(X_test)\n",
        "predicted_stock_prices = predicted_stock_prices.reshape(-1, 1)\n",
        "predicted_stock_prices = scaler.inverse_transform(predicted_stock_prices)"
      ],
      "metadata": {
        "colab": {
          "base_uri": "https://localhost:8080/"
        },
        "id": "rZbb_eAd7I6V",
        "outputId": "8038d745-0956-43df-c041-45c2dd89d432"
      },
      "execution_count": 10,
      "outputs": [
        {
          "output_type": "stream",
          "name": "stdout",
          "text": [
            "34/34 [==============================] - 2s 13ms/step\n"
          ]
        }
      ]
    },
    {
      "cell_type": "markdown",
      "source": [
        "**Root Mean Squred Error**"
      ],
      "metadata": {
        "id": "5-OJ9Ng9UaJ2"
      }
    },
    {
      "cell_type": "code",
      "source": [
        "actual_stock_prices = test_data['Close'][seq_length:]\n",
        "rmse = math.sqrt(mean_squared_error(actual_stock_prices, predicted_stock_prices))\n",
        "print(f'Root Mean Squared Error (RMSE): {rmse}')"
      ],
      "metadata": {
        "colab": {
          "base_uri": "https://localhost:8080/"
        },
        "id": "zQg7dAc9TH7a",
        "outputId": "3d83d6d7-1828-4185-ed2b-a45a0dafb372"
      },
      "execution_count": 11,
      "outputs": [
        {
          "output_type": "stream",
          "name": "stdout",
          "text": [
            "Root Mean Squared Error (RMSE): 124.56407789805529\n"
          ]
        }
      ]
    },
    {
      "cell_type": "markdown",
      "source": [
        "**Visualization Actual vs. Predicted Stock Prices**"
      ],
      "metadata": {
        "id": "CqEm2xJjSEr6"
      }
    },
    {
      "cell_type": "code",
      "source": [
        "plt.figure(figsize=(12, 6))\n",
        "plt.plot(test_data.index[seq_length:], test_data['Close'][seq_length:], label='Actual Stock Prices')\n",
        "plt.plot(test_data.index[seq_length:], predicted_stock_prices, label='Predicted Stock Prices')\n",
        "plt.xlabel('Date')\n",
        "plt.ylabel('Stock Price')\n",
        "plt.title('Actual vs Predicted Stock Prices')\n",
        "plt.legend()\n",
        "plt.show()"
      ],
      "metadata": {
        "colab": {
          "base_uri": "https://localhost:8080/",
          "height": 564
        },
        "id": "OKssC-rs9Vxb",
        "outputId": "013a221f-f647-4d03-a441-34a946720d1f"
      },
      "execution_count": 12,
      "outputs": [
        {
          "output_type": "display_data",
          "data": {
            "text/plain": [
              "<Figure size 1200x600 with 1 Axes>"
            ],
            "image/png": "[encoded data removed]"
          },
          "metadata": {}
        }
      ]
    }
  ]
}